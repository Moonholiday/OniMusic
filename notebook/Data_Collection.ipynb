{
 "cells": [
  {
   "cell_type": "code",
   "execution_count": 2,
   "id": "b43d2320",
   "metadata": {},
   "outputs": [
    {
     "name": "stderr",
     "output_type": "stream",
     "text": [
      "100%|████████████████████████████████████████| 126/126 [30:15<00:00, 14.41s/it]\n"
     ]
    }
   ],
   "source": [
    "# Data preparation\n",
    "# Import modules\n",
    "import sys\n",
    "# If your authentification script is not in the project directory\n",
    "# append its folder to sys.path\n",
    "sys.path.append(\"../spotify_api_web_app\")\n",
    "import authorization\n",
    "import pandas as pd\n",
    "from tqdm import tqdm\n",
    "import time\n",
    "\n",
    "# Authorize and call access object \"sp\"\n",
    "sp = authorization.authorize()\n",
    "\n",
    "# Get all genres\n",
    "genres = sp.recommendation_genre_seeds()\n",
    "\n",
    "# Set number of recommendations per genre\n",
    "n_recs = 50\n",
    "\n",
    "# Initiate a dictionary with all the information you want to crawl\n",
    "data_dict = {\"id\":[], \"genre\":[], \"track_name\":[], \"artist_name\":[],\n",
    "             \"valence\":[],\"acousticness\":[],\"danceability\":[],\n",
    "             \"instrumentalness\":[],\"key\":[],\"liveness\":[],\"loudness\":[],\n",
    "             \"speechiness\":[],\"tempo\":[], \"energy\":[]}\n",
    "\n",
    "## CRAWL DATA ##\n",
    "\n",
    "# Get recs for every genre\n",
    "for g in tqdm(genres):\n",
    "    \n",
    "    # Get n recommendations\n",
    "    recs = sp.recommendations(genres = [g], limit = n_recs)\n",
    "    \n",
    "    # json-like string to dict\n",
    "    recs = eval(recs.json().replace(\"null\", \"-999\").replace(\"false\", \"False\").replace(\"true\", \"True\"))[\"tracks\"]\n",
    "\n",
    "    # Crawl data from each track\n",
    "    for track in recs:\n",
    "        \n",
    "        # ID and Genre\n",
    "        data_dict[\"id\"].append(track[\"id\"])\n",
    "        data_dict[\"genre\"].append(g)\n",
    "        \n",
    "        # Metadata\n",
    "        track_meta = sp.track(track[\"id\"])\n",
    "        data_dict[\"track_name\"].append(track_meta.name)\n",
    "        data_dict[\"artist_name\"].append(track_meta.album.artists[0].name)\n",
    "        \n",
    "        # Audio Features\n",
    "        track_features = sp.track_audio_features(track[\"id\"])\n",
    "        data_dict[\"valence\"].append(track_features.valence)\n",
    "        data_dict[\"acousticness\"].append(track_features.acousticness)\n",
    "        data_dict[\"danceability\"].append(track_features.danceability)\n",
    "        data_dict[\"instrumentalness\"].append(track_features.instrumentalness)\n",
    "        data_dict[\"key\"].append(track_features.key)\n",
    "        data_dict[\"liveness\"].append(track_features.liveness)\n",
    "        data_dict[\"loudness\"].append(track_features.loudness)\n",
    "        data_dict[\"speechiness\"].append(track_features.speechiness)\n",
    "        data_dict[\"tempo\"].append(track_features.tempo)\n",
    "        data_dict[\"energy\"].append(track_features.energy)\n",
    "\n",
    "        \n",
    "\n",
    "# ## PROCESS DATA ##\n",
    "\n",
    "# # Store data in dataframe\n",
    "\n",
    "\n",
    "# # Drop duplicates\n",
    "# df.drop_duplicates(subset = \"id\", keep = \"first\", inplace = True)\n",
    "# df.to_csv(\"valence_arousal_dataset.csv\", index = False)"
   ]
  },
  {
   "cell_type": "code",
   "execution_count": 5,
   "id": "6fbde96f",
   "metadata": {},
   "outputs": [],
   "source": [
    "df = pd.DataFrame(data_dict)"
   ]
  },
  {
   "cell_type": "code",
   "execution_count": 7,
   "id": "79c7077c",
   "metadata": {},
   "outputs": [],
   "source": [
    "df.drop_duplicates(subset = \"id\", keep = \"first\", inplace = True)"
   ]
  },
  {
   "cell_type": "code",
   "execution_count": 8,
   "id": "ac5d6a48",
   "metadata": {},
   "outputs": [],
   "source": [
    "df.to_csv(\"dataset_af.csv\", index = False)"
   ]
  },
  {
   "cell_type": "code",
   "execution_count": 10,
   "id": "a1bcabc4",
   "metadata": {},
   "outputs": [],
   "source": [
    "fd = pd.read_csv('dataset_af.csv')"
   ]
  },
  {
   "cell_type": "code",
   "execution_count": 14,
   "id": "f2c33426",
   "metadata": {},
   "outputs": [
    {
     "data": {
      "text/html": [
       "<div>\n",
       "<style scoped>\n",
       "    .dataframe tbody tr th:only-of-type {\n",
       "        vertical-align: middle;\n",
       "    }\n",
       "\n",
       "    .dataframe tbody tr th {\n",
       "        vertical-align: top;\n",
       "    }\n",
       "\n",
       "    .dataframe thead th {\n",
       "        text-align: right;\n",
       "    }\n",
       "</style>\n",
       "<table border=\"1\" class=\"dataframe\">\n",
       "  <thead>\n",
       "    <tr style=\"text-align: right;\">\n",
       "      <th></th>\n",
       "      <th>id</th>\n",
       "      <th>genre</th>\n",
       "      <th>track_name</th>\n",
       "      <th>artist_name</th>\n",
       "      <th>valence</th>\n",
       "      <th>acousticness</th>\n",
       "      <th>danceability</th>\n",
       "      <th>instrumentalness</th>\n",
       "      <th>key</th>\n",
       "      <th>liveness</th>\n",
       "      <th>loudness</th>\n",
       "      <th>speechiness</th>\n",
       "      <th>tempo</th>\n",
       "      <th>energy</th>\n",
       "    </tr>\n",
       "  </thead>\n",
       "  <tbody>\n",
       "    <tr>\n",
       "      <th>0</th>\n",
       "      <td>4JKHACLkotsxdKNF9vJYOS</td>\n",
       "      <td>acoustic</td>\n",
       "      <td>Nothing Arrived - Live from Spotify London</td>\n",
       "      <td>Villagers</td>\n",
       "      <td>0.420</td>\n",
       "      <td>0.929000</td>\n",
       "      <td>0.579</td>\n",
       "      <td>0.00180</td>\n",
       "      <td>7</td>\n",
       "      <td>0.6710</td>\n",
       "      <td>-11.599</td>\n",
       "      <td>0.0397</td>\n",
       "      <td>102.713</td>\n",
       "      <td>0.415</td>\n",
       "    </tr>\n",
       "    <tr>\n",
       "      <th>1</th>\n",
       "      <td>7utRJ4BeYx85khzP3lKoBX</td>\n",
       "      <td>acoustic</td>\n",
       "      <td>Tears in Heaven</td>\n",
       "      <td>Eric Clapton</td>\n",
       "      <td>0.312</td>\n",
       "      <td>0.835000</td>\n",
       "      <td>0.498</td>\n",
       "      <td>0.53600</td>\n",
       "      <td>9</td>\n",
       "      <td>0.1330</td>\n",
       "      <td>-12.238</td>\n",
       "      <td>0.0257</td>\n",
       "      <td>153.744</td>\n",
       "      <td>0.242</td>\n",
       "    </tr>\n",
       "    <tr>\n",
       "      <th>2</th>\n",
       "      <td>4vdnC0qoyb89SmCow0OT4m</td>\n",
       "      <td>acoustic</td>\n",
       "      <td>Bad Romance</td>\n",
       "      <td>Lissie</td>\n",
       "      <td>0.275</td>\n",
       "      <td>0.000565</td>\n",
       "      <td>0.409</td>\n",
       "      <td>0.00075</td>\n",
       "      <td>9</td>\n",
       "      <td>0.6900</td>\n",
       "      <td>-5.109</td>\n",
       "      <td>0.0290</td>\n",
       "      <td>116.207</td>\n",
       "      <td>0.631</td>\n",
       "    </tr>\n",
       "    <tr>\n",
       "      <th>3</th>\n",
       "      <td>2ZheGCM31EbCwUfGs0WJB1</td>\n",
       "      <td>acoustic</td>\n",
       "      <td>Barton Hollow</td>\n",
       "      <td>The Civil Wars</td>\n",
       "      <td>0.435</td>\n",
       "      <td>0.123000</td>\n",
       "      <td>0.403</td>\n",
       "      <td>0.00000</td>\n",
       "      <td>2</td>\n",
       "      <td>0.0857</td>\n",
       "      <td>-7.338</td>\n",
       "      <td>0.0303</td>\n",
       "      <td>90.854</td>\n",
       "      <td>0.659</td>\n",
       "    </tr>\n",
       "    <tr>\n",
       "      <th>4</th>\n",
       "      <td>4Pl8ViAolRF4rK8QBMhKd9</td>\n",
       "      <td>acoustic</td>\n",
       "      <td>Redemption Song</td>\n",
       "      <td>Bob Marley &amp; The Wailers</td>\n",
       "      <td>0.698</td>\n",
       "      <td>0.585000</td>\n",
       "      <td>0.666</td>\n",
       "      <td>0.00000</td>\n",
       "      <td>0</td>\n",
       "      <td>0.0790</td>\n",
       "      <td>-10.721</td>\n",
       "      <td>0.0400</td>\n",
       "      <td>116.082</td>\n",
       "      <td>0.259</td>\n",
       "    </tr>\n",
       "  </tbody>\n",
       "</table>\n",
       "</div>"
      ],
      "text/plain": [
       "                       id     genre  \\\n",
       "0  4JKHACLkotsxdKNF9vJYOS  acoustic   \n",
       "1  7utRJ4BeYx85khzP3lKoBX  acoustic   \n",
       "2  4vdnC0qoyb89SmCow0OT4m  acoustic   \n",
       "3  2ZheGCM31EbCwUfGs0WJB1  acoustic   \n",
       "4  4Pl8ViAolRF4rK8QBMhKd9  acoustic   \n",
       "\n",
       "                                   track_name               artist_name  \\\n",
       "0  Nothing Arrived - Live from Spotify London                 Villagers   \n",
       "1                             Tears in Heaven              Eric Clapton   \n",
       "2                                 Bad Romance                    Lissie   \n",
       "3                               Barton Hollow            The Civil Wars   \n",
       "4                             Redemption Song  Bob Marley & The Wailers   \n",
       "\n",
       "   valence  acousticness  danceability  instrumentalness  key  liveness  \\\n",
       "0    0.420      0.929000         0.579           0.00180    7    0.6710   \n",
       "1    0.312      0.835000         0.498           0.53600    9    0.1330   \n",
       "2    0.275      0.000565         0.409           0.00075    9    0.6900   \n",
       "3    0.435      0.123000         0.403           0.00000    2    0.0857   \n",
       "4    0.698      0.585000         0.666           0.00000    0    0.0790   \n",
       "\n",
       "   loudness  speechiness    tempo  energy  \n",
       "0   -11.599       0.0397  102.713   0.415  \n",
       "1   -12.238       0.0257  153.744   0.242  \n",
       "2    -5.109       0.0290  116.207   0.631  \n",
       "3    -7.338       0.0303   90.854   0.659  \n",
       "4   -10.721       0.0400  116.082   0.259  "
      ]
     },
     "execution_count": 14,
     "metadata": {},
     "output_type": "execute_result"
    }
   ],
   "source": [
    "fd.head()"
   ]
  },
  {
   "cell_type": "code",
   "execution_count": 15,
   "id": "8071b633",
   "metadata": {},
   "outputs": [
    {
     "data": {
      "text/plain": [
       "(5858, 14)"
      ]
     },
     "execution_count": 15,
     "metadata": {},
     "output_type": "execute_result"
    }
   ],
   "source": [
    "fd.shape"
   ]
  },
  {
   "cell_type": "code",
   "execution_count": 20,
   "id": "2101fecb",
   "metadata": {},
   "outputs": [
    {
     "data": {
      "text/plain": [
       "id                  0\n",
       "genre               0\n",
       "track_name          2\n",
       "artist_name         2\n",
       "valence             0\n",
       "acousticness        0\n",
       "danceability        0\n",
       "instrumentalness    0\n",
       "key                 0\n",
       "liveness            0\n",
       "loudness            0\n",
       "speechiness         0\n",
       "tempo               0\n",
       "energy              0\n",
       "dtype: int64"
      ]
     },
     "execution_count": 20,
     "metadata": {},
     "output_type": "execute_result"
    }
   ],
   "source": [
    "fd.isnull().sum()"
   ]
  },
  {
   "cell_type": "code",
   "execution_count": null,
   "id": "ffda8268",
   "metadata": {},
   "outputs": [],
   "source": []
  }
 ],
 "metadata": {
  "kernelspec": {
   "display_name": "Python 3 (ipykernel)",
   "language": "python",
   "name": "python3"
  },
  "language_info": {
   "codemirror_mode": {
    "name": "ipython",
    "version": 3
   },
   "file_extension": ".py",
   "mimetype": "text/x-python",
   "name": "python",
   "nbconvert_exporter": "python",
   "pygments_lexer": "ipython3",
   "version": "3.10.2"
  }
 },
 "nbformat": 4,
 "nbformat_minor": 5
}
