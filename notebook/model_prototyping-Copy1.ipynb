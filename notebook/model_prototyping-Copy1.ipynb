{
 "cells": [
  {
   "cell_type": "code",
   "execution_count": 2,
   "id": "975d2359",
   "metadata": {},
   "outputs": [],
   "source": [
    "import os\n",
    "import numpy as np\n",
    "import pandas as pd\n",
    "import seaborn as sns\n",
    "import plotly.express as px \n",
    "import matplotlib.pyplot as plt\n",
    "%matplotlib inline\n",
    "from sklearn.cluster import KMeans\n",
    "from sklearn.preprocessing import StandardScaler\n",
    "from sklearn.pipeline import Pipeline\n",
    "from sklearn.manifold import TSNE\n",
    "from sklearn.decomposition import PCA\n",
    "from sklearn.metrics import euclidean_distances\n",
    "from scipy.spatial.distance import cdist\n",
    "import difflib\n",
    "import spotipy\n",
    "from spotipy.oauth2 import SpotifyClientCredentials\n",
    "from collections import defaultdict\n",
    "\n",
    "\n",
    "import warnings\n",
    "warnings.filterwarnings(\"ignore\")"
   ]
  },
  {
   "cell_type": "code",
   "execution_count": 3,
   "id": "a2c048c1",
   "metadata": {},
   "outputs": [],
   "source": [
    "data = pd.read_csv(\"data.csv\")\n",
    "genre_data = pd.read_csv('data_by_genres.csv')"
   ]
  },
  {
   "cell_type": "code",
   "execution_count": 4,
   "id": "339d9a13",
   "metadata": {},
   "outputs": [],
   "source": [
    "from sklearn.cluster import KMeans\n",
    "from sklearn.preprocessing import StandardScaler\n",
    "from sklearn.pipeline import Pipeline\n",
    "\n",
    "cluster_pipeline = Pipeline([('scaler', StandardScaler()), ('kmeans', KMeans(n_clusters=10))])\n",
    "X = genre_data.select_dtypes(np.number)\n",
    "cluster_pipeline.fit(X)\n",
    "genre_data['cluster'] = cluster_pipeline.predict(X)"
   ]
  },
  {
   "cell_type": "code",
   "execution_count": null,
   "id": "d0aa217d",
   "metadata": {},
   "outputs": [],
   "source": [
    "\n"
   ]
  },
  {
   "cell_type": "code",
   "execution_count": null,
   "id": "74da27bd",
   "metadata": {},
   "outputs": [],
   "source": []
  },
  {
   "cell_type": "code",
   "execution_count": null,
   "id": "cfd0fb4c",
   "metadata": {},
   "outputs": [],
   "source": []
  },
  {
   "cell_type": "code",
   "execution_count": null,
   "id": "9c708d5b",
   "metadata": {},
   "outputs": [],
   "source": []
  },
  {
   "cell_type": "code",
   "execution_count": null,
   "id": "31ecdbe4",
   "metadata": {},
   "outputs": [
    {
     "name": "stdout",
     "output_type": "stream",
     "text": [
      "[t-SNE] Computing 91 nearest neighbors...\n",
      "[t-SNE] Indexed 170653 samples in 1.139s...\n"
     ]
    }
   ],
   "source": [
    "from collections import defaultdict\n",
    "from sklearn.metrics import euclidean_distances\n",
    "from scipy.spatial.distance import cdist\n",
    "import difflib\n",
    "import spotipy\n",
    "from spotipy.oauth2 import SpotifyClientCredentials\n",
    "from collections import defaultdict\n",
    "# Visualizing the Clusters with PCA\n",
    "\n",
    "from sklearn.decomposition import PCA\n",
    "\n",
    "pca_pipeline = Pipeline([('scaler', StandardScaler()), ('PCA', PCA(n_components=2))])\n",
    "song_embedding = pca_pipeline.fit_transform(X)\n",
    "\n",
    "client_id=\"b4dad3bdf5144e6f8f408ec2f6f278a3\"\n",
    "client_secret=\"a1e9ff23036a4444abcf6067fd63c2ca\"\n",
    "\n",
    "sp = spotipy.Spotify(auth_manager=SpotifyClientCredentials(client_id=client_id, client_secret=client_secret))\n",
    "\n",
    "\n",
    "number_cols = ['valence', 'acousticness', 'danceability', 'duration_ms', 'energy', 'explicit',\n",
    " 'instrumentalness', 'key', 'liveness', 'loudness', 'mode', 'popularity', 'speechiness', 'tempo']\n",
    "\n",
    "# Visualizing the Clusters with t-SNE\n",
    "\n",
    "from sklearn.manifold import TSNE\n",
    "\n",
    "tsne_pipeline = Pipeline([('scaler', StandardScaler()), ('tsne', TSNE(n_components=2, verbose=1))])\n",
    "genre_embedding = tsne_pipeline.fit_transform(X)\n",
    "\n",
    "song_cluster_pipeline = Pipeline([('scaler', StandardScaler()), \n",
    "                                  ('kmeans', KMeans(n_clusters=20, \n",
    "                                   verbose=False))\n",
    "                                 ], verbose=False)\n",
    "\n",
    "X = data.select_dtypes(np.number)\n",
    "number_cols = list(X.columns)\n",
    "song_cluster_pipeline.fit(X)\n",
    "song_cluster_labels = song_cluster_pipeline.predict(X)\n",
    "data['cluster_label'] = song_cluster_labels\n",
    "\n",
    "class Rec:\n",
    "    def find_song(name):\n",
    "        song_data = defaultdict()\n",
    "        results = sp.search(q= name, limit=1)\n",
    "        if results['tracks']['items'] == []:\n",
    "            return None\n",
    "\n",
    "        results = results['tracks']['items'][0]\n",
    "        track_id = results['id']\n",
    "        audio_features = sp.audio_features(track_id)[0]\n",
    "\n",
    "        song_data['name'] = [name]\n",
    "        song_data['explicit'] = [int(results['explicit'])]\n",
    "        song_data['duration_ms'] = [results['duration_ms']]\n",
    "        song_data['popularity'] = [results['popularity']]\n",
    "\n",
    "        for key, value in audio_features.items():\n",
    "            song_data[key] = value\n",
    "\n",
    "        return pd.DataFrame(song_data)\n",
    "\n",
    "    def get_song_data(song, spotify_data):\n",
    "\n",
    "        try:\n",
    "            song_data = spotify_data[(spotify_data['name'] == song['name'])].iloc[0]\n",
    "            return song_data\n",
    "\n",
    "        except IndexError:\n",
    "            return Rec.find_song(song['name'])\n",
    "\n",
    "\n",
    "    def get_mean_vector(song_list, spotify_data):\n",
    "\n",
    "        song_vectors = []\n",
    "\n",
    "        for song in song_list:\n",
    "            song_data = Rec.get_song_data(song, spotify_data)\n",
    "            if song_data is None:\n",
    "                print('Warning: {} does not exist in Spotify or in database'.format(song['name']))\n",
    "                continue\n",
    "            song_vector = song_data[number_cols].values\n",
    "            song_vectors.append(song_vector)  \n",
    "\n",
    "        song_matrix = np.array(list(song_vectors))\n",
    "        return np.mean(song_matrix, axis=0)\n",
    "\n",
    "\n",
    "    def flatten_dict_list(dict_list):\n",
    "\n",
    "        flattened_dict = defaultdict()\n",
    "        for key in dict_list[0].keys():\n",
    "            flattened_dict[key] = []\n",
    "\n",
    "        for dictionary in dict_list:\n",
    "            for key, value in dictionary.items():\n",
    "                flattened_dict[key].append(value)\n",
    "\n",
    "        return flattened_dict\n",
    "\n",
    "\n",
    "    def recommend_songs( song_list, n_songs=10):\n",
    "        spotify_data = data\n",
    "\n",
    "        metadata_cols = ['name', 'id', 'artists']\n",
    "        song_dict = Rec.flatten_dict_list(song_list)\n",
    "\n",
    "        song_center = Rec.get_mean_vector(song_list, spotify_data)\n",
    "        scaler = song_cluster_pipeline.steps[0][1]\n",
    "        scaled_data = scaler.transform(spotify_data[number_cols])\n",
    "        scaled_song_center = scaler.transform(song_center.reshape(1, -1))\n",
    "        distances = cdist(scaled_song_center, scaled_data, 'cosine')\n",
    "        index = list(np.argsort(distances)[:, :n_songs][0])\n",
    "\n",
    "        rec_songs = spotify_data.iloc[index]\n",
    "        rec_songs = rec_songs[~rec_songs['name'].isin(song_dict['name'])]\n",
    "        return rec_songs[metadata_cols].to_dict(orient='records')\n",
    "    "
   ]
  },
  {
   "cell_type": "code",
   "execution_count": null,
   "id": "989640c3",
   "metadata": {},
   "outputs": [],
   "source": []
  },
  {
   "cell_type": "code",
   "execution_count": null,
   "id": "3703f4b8",
   "metadata": {},
   "outputs": [],
   "source": [
    "Rec.recommend_songs([{'name': 'baby'}])"
   ]
  },
  {
   "cell_type": "code",
   "execution_count": 14,
   "id": "84ae516b",
   "metadata": {},
   "outputs": [],
   "source": [
    "obj = Rec"
   ]
  },
  {
   "cell_type": "code",
   "execution_count": 15,
   "id": "b50bacd6",
   "metadata": {},
   "outputs": [],
   "source": [
    "import pickle\n",
    "with open('song_recommendation', 'wb') as f:\n",
    "    pickle.dump(obj,f)"
   ]
  },
  {
   "cell_type": "code",
   "execution_count": 16,
   "id": "88ceae62",
   "metadata": {},
   "outputs": [],
   "source": [
    "import pickle\n",
    "with open('song_recommendation', 'rb') as f:\n",
    "    m = pickle.load(f)"
   ]
  },
  {
   "cell_type": "code",
   "execution_count": 17,
   "id": "a0451e3a",
   "metadata": {
    "scrolled": true
   },
   "outputs": [
    {
     "data": {
      "text/plain": [
       "[{'name': 'One Last Time',\n",
       "  'id': '7xoUc6faLbCqZO6fQEYprd',\n",
       "  'artists': \"['Ariana Grande']\"},\n",
       " {'name': 'Apologize',\n",
       "  'id': '6ucR4KfvsBFWCMVFDvyKKl',\n",
       "  'artists': \"['Timbaland', 'OneRepublic']\"},\n",
       " {'name': 'Austin',\n",
       "  'id': '2WQAknZHrJAEQOFXe0F44P',\n",
       "  'artists': \"['Blake Shelton']\"},\n",
       " {'name': 'Swim',\n",
       "  'id': '3M0lSi5WW79CXQamgSBIjx',\n",
       "  'artists': \"['Chase Atlantic']\"},\n",
       " {'name': 'Víveme',\n",
       "  'id': '376zCxYCHr7rSFBdz41QyE',\n",
       "  'artists': \"['Laura Pausini']\"},\n",
       " {'name': 'Life Of The Party',\n",
       "  'id': '14hJ5tc1VCFMWhVn9axRTC',\n",
       "  'artists': \"['Shawn Mendes']\"},\n",
       " {'name': 'Losing Me',\n",
       "  'id': '4P6g8wuXeR3wznFk7WnI4w',\n",
       "  'artists': \"['Gabrielle Aplin', 'JP Cooper']\"},\n",
       " {'name': 'That Should Be Me',\n",
       "  'id': '0aPZbnkMoWJaJ5CNVLCj8S',\n",
       "  'artists': \"['Justin Bieber']\"},\n",
       " {'name': 'Melting',\n",
       "  'id': '2kSb3wYSOV996xA2NSmpck',\n",
       "  'artists': \"['Kali Uchis']\"},\n",
       " {'name': 'Wildfire',\n",
       "  'id': '2Ro9FLIVhPwIQopSr48oJT',\n",
       "  'artists': \"['Seafret']\"}]"
      ]
     },
     "execution_count": 17,
     "metadata": {},
     "output_type": "execute_result"
    }
   ],
   "source": [
    "m.recommend_songs([{'name': 'one last'}])"
   ]
  },
  {
   "cell_type": "code",
   "execution_count": null,
   "id": "bd0f4b96",
   "metadata": {},
   "outputs": [],
   "source": []
  }
 ],
 "metadata": {
  "kernelspec": {
   "display_name": "Python 3 (ipykernel)",
   "language": "python",
   "name": "python3"
  },
  "language_info": {
   "codemirror_mode": {
    "name": "ipython",
    "version": 3
   },
   "file_extension": ".py",
   "mimetype": "text/x-python",
   "name": "python",
   "nbconvert_exporter": "python",
   "pygments_lexer": "ipython3",
   "version": "3.10.2"
  }
 },
 "nbformat": 4,
 "nbformat_minor": 5
}
