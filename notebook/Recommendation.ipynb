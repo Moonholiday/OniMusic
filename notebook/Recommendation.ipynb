{
 "cells": [
  {
   "cell_type": "code",
   "execution_count": 1,
   "id": "b43d2320",
   "metadata": {},
   "outputs": [
    {
     "name": "stderr",
     "output_type": "stream",
     "text": [
      " 35%|█████████████▌                         | 44/126 [38:06<1:11:01, 51.96s/it]\n"
     ]
    },
    {
     "ename": "InternalServerError",
     "evalue": "Error in https://api.spotify.com/v1/tracks/0XqQJqv7R6oqE17bhwoddp:\n500: Server error.\n",
     "output_type": "error",
     "traceback": [
      "\u001b[1;31m---------------------------------------------------------------------------\u001b[0m",
      "\u001b[1;31mInternalServerError\u001b[0m                       Traceback (most recent call last)",
      "Input \u001b[1;32mIn [1]\u001b[0m, in \u001b[0;36m<module>\u001b[1;34m\u001b[0m\n\u001b[0;32m     39\u001b[0m data_dict[\u001b[38;5;124m\"\u001b[39m\u001b[38;5;124mgenre\u001b[39m\u001b[38;5;124m\"\u001b[39m]\u001b[38;5;241m.\u001b[39mappend(g)\n\u001b[0;32m     40\u001b[0m \u001b[38;5;66;03m# Metadata\u001b[39;00m\n\u001b[1;32m---> 41\u001b[0m track_meta \u001b[38;5;241m=\u001b[39m \u001b[43msp\u001b[49m\u001b[38;5;241;43m.\u001b[39;49m\u001b[43mtrack\u001b[49m\u001b[43m(\u001b[49m\u001b[43mtrack\u001b[49m\u001b[43m[\u001b[49m\u001b[38;5;124;43m\"\u001b[39;49m\u001b[38;5;124;43mid\u001b[39;49m\u001b[38;5;124;43m\"\u001b[39;49m\u001b[43m]\u001b[49m\u001b[43m)\u001b[49m\n\u001b[0;32m     42\u001b[0m data_dict[\u001b[38;5;124m\"\u001b[39m\u001b[38;5;124mtrack_name\u001b[39m\u001b[38;5;124m\"\u001b[39m]\u001b[38;5;241m.\u001b[39mappend(track_meta\u001b[38;5;241m.\u001b[39mname)\n\u001b[0;32m     43\u001b[0m data_dict[\u001b[38;5;124m\"\u001b[39m\u001b[38;5;124martist_name\u001b[39m\u001b[38;5;124m\"\u001b[39m]\u001b[38;5;241m.\u001b[39mappend(track_meta\u001b[38;5;241m.\u001b[39malbum\u001b[38;5;241m.\u001b[39martists[\u001b[38;5;241m0\u001b[39m]\u001b[38;5;241m.\u001b[39mname)\n",
      "File \u001b[1;32m~\\AppData\\Local\\Programs\\Python\\Python310\\lib\\site-packages\\tekore\\_sender\\client.py:79\u001b[0m, in \u001b[0;36msend_and_process.<locals>.decorator.<locals>.wrapper\u001b[1;34m(self, *args, **kwargs)\u001b[0m\n\u001b[0;32m     76\u001b[0m     \u001b[38;5;28;01mreturn\u001b[39;00m async_send(\u001b[38;5;28mself\u001b[39m, request, params)\n\u001b[0;32m     78\u001b[0m response \u001b[38;5;241m=\u001b[39m \u001b[38;5;28mself\u001b[39m\u001b[38;5;241m.\u001b[39msend(request)\n\u001b[1;32m---> 79\u001b[0m \u001b[38;5;28;01mreturn\u001b[39;00m \u001b[43mpost_func\u001b[49m\u001b[43m(\u001b[49m\u001b[43mrequest\u001b[49m\u001b[43m,\u001b[49m\u001b[43m \u001b[49m\u001b[43mresponse\u001b[49m\u001b[43m,\u001b[49m\u001b[43m \u001b[49m\u001b[38;5;241;43m*\u001b[39;49m\u001b[43mparams\u001b[49m\u001b[43m)\u001b[49m\n",
      "File \u001b[1;32m~\\AppData\\Local\\Programs\\Python\\Python310\\lib\\site-packages\\tekore\\_client\\decor\\__init__.py:19\u001b[0m, in \u001b[0;36msend_and_process.<locals>.parse_response\u001b[1;34m(request, response)\u001b[0m\n\u001b[0;32m     18\u001b[0m \u001b[38;5;28;01mdef\u001b[39;00m \u001b[38;5;21mparse_response\u001b[39m(request, response):\n\u001b[1;32m---> 19\u001b[0m     \u001b[43mhandle_errors\u001b[49m\u001b[43m(\u001b[49m\u001b[43mrequest\u001b[49m\u001b[43m,\u001b[49m\u001b[43m \u001b[49m\u001b[43mresponse\u001b[49m\u001b[43m)\u001b[49m\n\u001b[0;32m     20\u001b[0m     \u001b[38;5;28;01mreturn\u001b[39;00m post_func(response\u001b[38;5;241m.\u001b[39mcontent)\n",
      "File \u001b[1;32m~\\AppData\\Local\\Programs\\Python\\Python310\\lib\\site-packages\\tekore\\_client\\decor\\handle.py:33\u001b[0m, in \u001b[0;36mhandle_errors\u001b[1;34m(request, response)\u001b[0m\n\u001b[0;32m     27\u001b[0m error_str \u001b[38;5;241m=\u001b[39m error_format\u001b[38;5;241m.\u001b[39mformat(\n\u001b[0;32m     28\u001b[0m     url\u001b[38;5;241m=\u001b[39mresponse\u001b[38;5;241m.\u001b[39murl,\n\u001b[0;32m     29\u001b[0m     code\u001b[38;5;241m=\u001b[39mresponse\u001b[38;5;241m.\u001b[39mstatus_code,\n\u001b[0;32m     30\u001b[0m     msg\u001b[38;5;241m=\u001b[39mparse_error_reason(response)\n\u001b[0;32m     31\u001b[0m )\n\u001b[0;32m     32\u001b[0m error_cls \u001b[38;5;241m=\u001b[39m get_error(response\u001b[38;5;241m.\u001b[39mstatus_code)\n\u001b[1;32m---> 33\u001b[0m \u001b[38;5;28;01mraise\u001b[39;00m error_cls(error_str, request\u001b[38;5;241m=\u001b[39mrequest, response\u001b[38;5;241m=\u001b[39mresponse)\n",
      "\u001b[1;31mInternalServerError\u001b[0m: Error in https://api.spotify.com/v1/tracks/0XqQJqv7R6oqE17bhwoddp:\n500: Server error.\n"
     ]
    }
   ],
   "source": [
    "# Data preparation\n",
    "# Import modules\n",
    "import sys\n",
    "# If your authentification script is not in the project directory\n",
    "# append its folder to sys.path\n",
    "sys.path.append(\"../spotify_api_web_app\")\n",
    "import authorization\n",
    "import pandas as pd\n",
    "from tqdm import tqdm\n",
    "import time\n",
    "\n",
    "# Authorize and call access object \"sp\"\n",
    "sp = authorization.authorize()\n",
    "\n",
    "# Get all genres\n",
    "genres = sp.recommendation_genre_seeds()\n",
    "\n",
    "# Set number of recommendations per genre\n",
    "n_recs = 100\n",
    "\n",
    "# Initiate a dictionary with all the information you want to crawl\n",
    "data_dict = {\"id\":[], \"genre\":[], \"track_name\":[], \"artist_name\":[],\n",
    "             \"valence\":[], \"energy\":[]}\n",
    "\n",
    "## CRAWL DATA ##\n",
    "\n",
    "# Get recs for every genre\n",
    "for g in tqdm(genres):\n",
    "    \n",
    "    # Get n recommendations\n",
    "    recs = sp.recommendations(genres = [g], limit = n_recs)\n",
    "    # json-like string to dict\n",
    "    recs = eval(recs.json().replace(\"null\", \"-999\").replace(\"false\", \"False\").replace(\"true\", \"True\"))[\"tracks\"]\n",
    "    \n",
    "    # Crawl data from each track\n",
    "    for track in recs:\n",
    "        # ID and Genre\n",
    "        data_dict[\"id\"].append(track[\"id\"])\n",
    "        data_dict[\"genre\"].append(g)\n",
    "        # Metadata\n",
    "        track_meta = sp.track(track[\"id\"])\n",
    "        data_dict[\"track_name\"].append(track_meta.name)\n",
    "        data_dict[\"artist_name\"].append(track_meta.album.artists[0].name)\n",
    "        # Valence and energy\n",
    "        track_features = sp.track_audio_features(track[\"id\"])\n",
    "        data_dict[\"valence\"].append(track_features.valence)\n",
    "        data_dict[\"energy\"].append(track_features.energy)\n",
    "        \n",
    "        # Wait 0.2 seconds per track so that the api doesnt overheat\n",
    "        time.sleep(0.2)\n",
    "\n",
    "## PROCESS DATA ##\n",
    "\n",
    "# Store data in dataframe\n",
    "df = pd.DataFrame(data_dict)\n",
    "\n",
    "# Drop duplicates\n",
    "df.drop_duplicates(subset = \"id\", keep = \"first\", inplace = True)\n",
    "df.to_csv(\"valence_arousal_dataset.csv\", index = False)"
   ]
  },
  {
   "cell_type": "code",
   "execution_count": null,
   "id": "d9f6490f",
   "metadata": {},
   "outputs": [],
   "source": [
    "def distance(p1, p2):\n",
    "    distance_x = p2[0]-p1[0]\n",
    "    distance_y = p2[1]-p1[1]\n",
    "    distance_vec = [distance_x, distance_y]\n",
    "    norm = (distance_vec[0]**2 + distance_vec[1]**2)**(1/2)\n",
    "    return norm"
   ]
  },
  {
   "cell_type": "code",
   "execution_count": null,
   "id": "c4642aa8",
   "metadata": {},
   "outputs": [],
   "source": [
    "import pandas as pd\n",
    "import random\n",
    "import authorization\n",
    "import numpy as np\n",
    "from numpy.linalg import norm"
   ]
  },
  {
   "cell_type": "code",
   "execution_count": null,
   "id": "b286b40e",
   "metadata": {},
   "outputs": [],
   "source": [
    "df = pd.read_csv(\"valence_arousal_dataset.csv\")"
   ]
  },
  {
   "cell_type": "code",
   "execution_count": null,
   "id": "ae4c81e1",
   "metadata": {},
   "outputs": [],
   "source": [
    "df[\"mood_vec\"] = df[[\"valence\", \"energy\"]].values.tolist()"
   ]
  },
  {
   "cell_type": "code",
   "execution_count": null,
   "id": "af22360a",
   "metadata": {},
   "outputs": [],
   "source": [
    "sp = authorization.authorize()"
   ]
  },
  {
   "cell_type": "code",
   "execution_count": 1,
   "id": "a7b3eb4f",
   "metadata": {},
   "outputs": [],
   "source": [
    "def recommend(track_id, ref_df, sp, n_recs = 5):\n",
    "    \n",
    "    # Crawl valence and arousal of given track from spotify api\n",
    "    track_features = sp.track_audio_features(track_id)\n",
    "    track_moodvec = np.array([track_features.valence, track_features.energy])\n",
    "    \n",
    "    # Compute distances to all reference tracks\n",
    "    ref_df[\"distances\"] = ref_df[\"mood_vec\"].apply(lambda x: norm(track_moodvec-np.array(x)))\n",
    "    # Sort distances from lowest to highest\n",
    "    ref_df_sorted = ref_df.sort_values(by = \"distances\", ascending = True)\n",
    "    # If the input track is in the reference set, it will have a distance of 0, but should not be recommendet\n",
    "    ref_df_sorted = ref_df_sorted[ref_df_sorted[\"id\"] != track_id]\n",
    "    \n",
    "    # Return n recommendations\n",
    "    return ref_df_sorted.iloc[:n_recs]"
   ]
  },
  {
   "cell_type": "code",
   "execution_count": 2,
   "id": "03dedf02",
   "metadata": {},
   "outputs": [
    {
     "ename": "NameError",
     "evalue": "name 'mad_world' is not defined",
     "output_type": "error",
     "traceback": [
      "\u001b[1;31m---------------------------------------------------------------------------\u001b[0m",
      "\u001b[1;31mNameError\u001b[0m                                 Traceback (most recent call last)",
      "Input \u001b[1;32mIn [2]\u001b[0m, in \u001b[0;36m<module>\u001b[1;34m\u001b[0m\n\u001b[0;32m      1\u001b[0m earthquake \u001b[38;5;241m=\u001b[39m \u001b[38;5;124m\"\u001b[39m\u001b[38;5;124m5hVghJ4KaYES3BFUATCYn0\u001b[39m\u001b[38;5;124m\"\u001b[39m\n\u001b[1;32m----> 2\u001b[0m recommend(track_id \u001b[38;5;241m=\u001b[39m \u001b[43mmad_world\u001b[49m, ref_df \u001b[38;5;241m=\u001b[39m df, sp \u001b[38;5;241m=\u001b[39m sp, n_recs \u001b[38;5;241m=\u001b[39m \u001b[38;5;241m5\u001b[39m)\n",
      "\u001b[1;31mNameError\u001b[0m: name 'mad_world' is not defined"
     ]
    }
   ],
   "source": [
    "earthquake = \"5hVghJ4KaYES3BFUATCYn0\"\n",
    "recommend(track_id = mad_world, ref_df = df, sp = sp, n_recs = 5)"
   ]
  },
  {
   "cell_type": "code",
   "execution_count": null,
   "id": "9ec36837",
   "metadata": {},
   "outputs": [],
   "source": []
  }
 ],
 "metadata": {
  "kernelspec": {
   "display_name": "Python 3 (ipykernel)",
   "language": "python",
   "name": "python3"
  },
  "language_info": {
   "codemirror_mode": {
    "name": "ipython",
    "version": 3
   },
   "file_extension": ".py",
   "mimetype": "text/x-python",
   "name": "python",
   "nbconvert_exporter": "python",
   "pygments_lexer": "ipython3",
   "version": "3.10.2"
  }
 },
 "nbformat": 4,
 "nbformat_minor": 5
}
